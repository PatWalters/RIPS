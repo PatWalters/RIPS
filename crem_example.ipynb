{
 "cells": [
  {
   "cell_type": "markdown",
   "id": "509687fb",
   "metadata": {},
   "source": [
    "This notebook require [CReM](https://jcheminf.biomedcentral.com/articles/10.1186/s13321-020-00431-w), which can be downloaded from https://github.com/DrrDom/crem  \n",
    "You also need to download a \"replacements\" database from https://www.qsar4u.com/pages/crem.php   \n",
    "For this example I used **replacements02_sc2.5.db**"
   ]
  },
  {
   "cell_type": "code",
   "execution_count": 12,
   "id": "e18710f2",
   "metadata": {},
   "outputs": [],
   "source": [
    "from crem.crem import grow_mol, mutate_mol\n",
    "from rdkit import Chem\n",
    "import pandas as pd\n",
    "from tqdm.auto import tqdm"
   ]
  },
  {
   "cell_type": "markdown",
   "id": "81d4603c",
   "metadata": {},
   "source": [
    "A link to the CReM database. "
   ]
  },
  {
   "cell_type": "code",
   "execution_count": 2,
   "id": "9d9a1180",
   "metadata": {},
   "outputs": [],
   "source": [
    "crem_db_file = '/Users/pwalters/modsource/python/rdkit/crem/replacements02_sc2.5.db'"
   ]
  },
  {
   "cell_type": "markdown",
   "id": "5aa49e6e",
   "metadata": {},
   "source": [
    "Read a fragment SMILES"
   ]
  },
  {
   "cell_type": "code",
   "execution_count": 5,
   "id": "5eae2733",
   "metadata": {},
   "outputs": [
    {
     "data": {
      "image/png": "[encoded data removed]",
      "text/plain": [
       "<rdkit.Chem.rdchem.Mol at 0x1620ad230>"
      ]
     },
     "execution_count": 5,
     "metadata": {},
     "output_type": "execute_result"
    }
   ],
   "source": [
    "frag_smi = \"Nc1cc(c[nH]c1=O)C(F)(F)F\"\n",
    "frag_mol = Chem.MolFromSmiles(frag_smi)\n",
    "frag_mol"
   ]
  },
  {
   "cell_type": "markdown",
   "id": "944ad028",
   "metadata": {},
   "source": [
    "Generate analogs using the CReM \"grow\" method."
   ]
  },
  {
   "cell_type": "code",
   "execution_count": 15,
   "id": "b4723fc1",
   "metadata": {},
   "outputs": [
    {
     "name": "stderr",
     "output_type": "stream",
     "text": [
      "[10:55:51] WARNING: not removing hydrogen atom with dummy atom neighbors\n",
      "[10:55:51] WARNING: not removing hydrogen atom with dummy atom neighbors\n",
      "[10:55:51] WARNING: not removing hydrogen atom with dummy atom neighbors\n",
      "[10:55:51] WARNING: not removing hydrogen atom with dummy atom neighbors\n"
     ]
    }
   ],
   "source": [
    "out_list = []\n",
    "grow_list = list(grow_mol(frag_mol, db_name=crem_db_file,return_mol=False))\n",
    "for idx,analog in enumerate(grow_list):\n",
    "    out_list.append([idx,analog,frag_smi])\n",
    "out_df = pd.DataFrame(out_list,columns=[\"Idx\",\"SMILES\",\"Input_SMILES\"])\n",
    "out_df.to_csv(\"crem_grow_samples.csv\",index=False)"
   ]
  },
  {
   "cell_type": "markdown",
   "id": "67385f79",
   "metadata": {},
   "source": [
    "Generate analogs with the CReM \"mutate\" method. "
   ]
  },
  {
   "cell_type": "code",
   "execution_count": 16,
   "id": "3859fb0e",
   "metadata": {},
   "outputs": [],
   "source": [
    "out_list = []\n",
    "grow_list = list(mutate_mol(frag_mol, db_name=crem_db_file,return_mol=False))\n",
    "for idx,analog in enumerate(grow_list):\n",
    "    out_list.append([idx,analog,frag_smi])\n",
    "out_df = pd.DataFrame(out_list,columns=[\"Idx\",\"SMILES\",\"Input_SMILES\"])\n",
    "out_df.to_csv(\"crem_mutate_samples.csv\",index=False)"
   ]
  },
  {
   "cell_type": "code",
   "execution_count": null,
   "id": "1b9f4a64",
   "metadata": {},
   "outputs": [],
   "source": []
  }
 ],
 "metadata": {
  "kernelspec": {
   "display_name": "Python 3 (ipykernel)",
   "language": "python",
   "name": "python3"
  },
  "language_info": {
   "codemirror_mode": {
    "name": "ipython",
    "version": 3
   },
   "file_extension": ".py",
   "mimetype": "text/x-python",
   "name": "python",
   "nbconvert_exporter": "python",
   "pygments_lexer": "ipython3",
   "version": "3.11.3"
  }
 },
 "nbformat": 4,
 "nbformat_minor": 5
}
